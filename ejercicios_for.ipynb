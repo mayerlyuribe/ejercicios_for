{
  "nbformat": 4,
  "nbformat_minor": 0,
  "metadata": {
    "colab": {
      "provenance": [],
      "toc_visible": true,
      "authorship_tag": "ABX9TyPUX6uS6Mka9dAek9JDaFXN",
      "include_colab_link": true
    },
    "kernelspec": {
      "name": "python3",
      "display_name": "Python 3"
    },
    "language_info": {
      "name": "python"
    }
  },
  "cells": [
    {
      "cell_type": "markdown",
      "metadata": {
        "id": "view-in-github",
        "colab_type": "text"
      },
      "source": [
        "<a href=\"https://colab.research.google.com/github/mayerlyuribe/ejercicios_for/blob/main/ejercicios_for.ipynb\" target=\"_parent\"><img src=\"https://colab.research.google.com/assets/colab-badge.svg\" alt=\"Open In Colab\"/></a>"
      ]
    },
    {
      "cell_type": "markdown",
      "source": [
        "# INSTRUCCIÓN REPETITIVA FOR"
      ],
      "metadata": {
        "id": "x8vJ5j5UrPL1"
      }
    },
    {
      "cell_type": "code",
      "source": [
        "#ejercicio 1:mostrar los numeros de el 1 a el 10 sin usar instrucciones repetitivas\n",
        "\n",
        "\n",
        "print(1)\n",
        "print(2)\n",
        "print(3)\n",
        "print(4)\n",
        "print(5)\n",
        "print(6)\n",
        "print(7)\n",
        "print(8)\n",
        "print(9)\n",
        "print(10)\n"
      ],
      "metadata": {
        "id": "xPQhUdAetaYo"
      },
      "execution_count": null,
      "outputs": []
    },
    {
      "cell_type": "code",
      "source": [
        "#ejercicio 2: mostrar los numeros de el 1 a el el 10  usando while\n",
        "\n",
        "contador=1\n",
        "print(contador)\n",
        "while contador<10:\n",
        "  #contador=contador+1\n",
        "  contador += 1\n",
        "  print(contador)\n"
      ],
      "metadata": {
        "id": "wUdyEegduB-n"
      },
      "execution_count": null,
      "outputs": []
    },
    {
      "cell_type": "code",
      "source": [
        "#ejercicio 3:mostrar los numero de el 1 a el 10 usando for y una lista\n",
        "for i in (1,2,3,4,5,6,7,8,9,10):\n",
        "  print(i)"
      ],
      "metadata": {
        "id": "qZkxm1bxvLA-"
      },
      "execution_count": null,
      "outputs": []
    },
    {
      "cell_type": "code",
      "source": [
        "#ejercicio 4: mostrar los numeros de el 1 a el 10 usando la funcion for y la funcion range\n",
        "for i in range(1,11):\n",
        "  print(i)"
      ],
      "metadata": {
        "id": "Z4jpdxCnwvCG"
      },
      "execution_count": null,
      "outputs": []
    },
    {
      "cell_type": "code",
      "source": [
        "#mostrar una frase 10 veces usando la instruccion for y una lista\n",
        "lista=[1,2,3,4,5,6,7,8,9,10]\n",
        "for i in lista:\n",
        "  print(f\"{i}sistemas, el mejor!!!!\")"
      ],
      "metadata": {
        "id": "1V4DsV8axqtu"
      },
      "execution_count": null,
      "outputs": []
    },
    {
      "cell_type": "code",
      "source": [
        "#ejercicio 6: mostrar la siliba de los dias de la semana, usando for y una lista\n",
        "dias_semana=[\"lun\",\"mar\",\"mié\",\"jue\",\"vie\",\"sab\",\"dom\"]\n",
        "for i in dias_semana:\n",
        "  print(i)\n",
        "  "
      ],
      "metadata": {
        "id": "1DV73S2Eytw3"
      },
      "execution_count": null,
      "outputs": []
    },
    {
      "cell_type": "code",
      "source": [
        "#ejercicio 7:mostrar una lista de distintos tipo de datos\n",
        "lista=[1, 3.4, 9, True, \"adri\", 8, \"guanenta\"]\n",
        "for i in lista:\n",
        "  print(i)\n",
        "  "
      ],
      "metadata": {
        "id": "AtDC9AVczrrA"
      },
      "execution_count": null,
      "outputs": []
    },
    {
      "cell_type": "code",
      "source": [
        "#ejercicio 8:ingresar su nombre y mostrarlo letra por letra\n",
        "nombre=input(\"como se llama?: \")\n",
        "for letra in nombre:\n",
        "  print(letra)\n"
      ],
      "metadata": {
        "id": "SQBehNwg0_CC"
      },
      "execution_count": null,
      "outputs": []
    },
    {
      "cell_type": "code",
      "source": [
        "#ejercicio 9:ingresar su nombre y mostarlo letra por letra usando for cambiando por asterisco la vocal e\n",
        "\n",
        "nombre=input(\"como se llama?\")\n",
        "for letra in nombre:\n",
        "  if letra == \"e\":\n",
        "    print(\"*\")\n",
        "  else:\n",
        "    print(letra)\n",
        "    "
      ],
      "metadata": {
        "id": "xKKgFpW72II2"
      },
      "execution_count": null,
      "outputs": []
    },
    {
      "cell_type": "code",
      "source": [
        "#ejercicio 10: ingresar su nombre y mostrarlo letra a letra en mayusculas.\n",
        "nombre= input(\"digite su nombre\")\n",
        "for letra in nombre:\n",
        "  print (letra.upper())"
      ],
      "metadata": {
        "id": "GosBLPMwAE1D"
      },
      "execution_count": null,
      "outputs": []
    },
    {
      "cell_type": "code",
      "source": [
        "#ejercicio 11 :impriir lista de numero usando for y range:\n",
        "\n",
        "print(\"numeros de el 0 a el 9\")\n",
        "for i in range(10):\n",
        "  print(i)\n",
        "\n",
        "print(\"numero de el 1 a el 10\")\n",
        "for i in range(1,11):\n",
        "  print(i)\n",
        "\n",
        "print(\"10 veces la frase\")\n",
        "for i in range(10):\n",
        "  print(\"sistemas el mejor!!\")\n",
        "\n",
        "print(\"10 veces la frase i = \" )\n",
        "for i in range(10):\n",
        "  print(\"i = \" +str(i))\n",
        "\n",
        "print(\"10 veces la frase i = \")\n",
        "for i in range(10):\n",
        "  print(f\"i = {i}\")\n",
        "\n",
        "print(\"rango de el 7 a el a el 19 de 4  en 4\")\n",
        "for i in range(7,19,4):\n",
        "  print(i)\n",
        "\n",
        "print(\"convierte rango en lista a, y la muestra\")\n",
        "a = list(range(1000))\n",
        "print(a)\n"
      ],
      "metadata": {
        "id": "hrSKzcrqBTxF"
      },
      "execution_count": null,
      "outputs": []
    },
    {
      "cell_type": "markdown",
      "source": [],
      "metadata": {
        "id": "MVtm1s-iHhz-"
      }
    }
  ]
}